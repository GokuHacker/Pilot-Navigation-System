{
 "cells": [
  {
   "cell_type": "markdown",
   "metadata": {},
   "source": [
    "# Pilot Navigation System\n"
   ]
  },
  {
   "cell_type": "code",
   "execution_count": null,
   "metadata": {},
   "outputs": [],
   "source": [
    "x= int(input(\"Enter the Height(altitude in ft):\"))\n",
    "if(x<3000):\n",
    "    print(\"Safe!!!Just Land it at nearby airport :) \")\n",
    "elif(x>3000 and x<6000):\n",
    "    print(\"Just try if u can land\")\n",
    "elif(x>6000):\n",
    "    print(\"Don't allow him to land or everyone will die!!!(GO AROUND)\") \n",
    "else:\n",
    "        print(\"undefined Altitude, bro!\")\n",
    "\n",
    "    \n",
    "    \n",
    "   "
   ]
  },
  {
   "cell_type": "code",
   "execution_count": null,
   "metadata": {},
   "outputs": [],
   "source": []
  }
 ],
 "metadata": {
  "kernelspec": {
   "display_name": "Python 3",
   "language": "python",
   "name": "python3"
  },
  "language_info": {
   "codemirror_mode": {
    "name": "ipython",
    "version": 3
   },
   "file_extension": ".py",
   "mimetype": "text/x-python",
   "name": "python",
   "nbconvert_exporter": "python",
   "pygments_lexer": "ipython3",
   "version": "3.8.5"
  }
 },
 "nbformat": 4,
 "nbformat_minor": 4
}
